{
 "cells": [
  {
   "cell_type": "code",
   "execution_count": 1,
   "metadata": {},
   "outputs": [],
   "source": [
    "import sys\n",
    "import os\n",
    "import json\n",
    "from pathlib import Path\n",
    "sys.path[0] = str(Path(sys.path[0]).parent.parent/'geometatool')\n",
    "from extract import *\n",
    "from validate import *\n",
    "from convert import *"
   ]
  },
  {
   "cell_type": "code",
   "execution_count": 2,
   "metadata": {},
   "outputs": [],
   "source": [
    "dirName = \"data\"\n",
    "fname = \"PVOUT.tif\"\n",
    "file_path = os.path.realpath(os.path.join(dirName, fname))"
   ]
  },
  {
   "cell_type": "markdown",
   "metadata": {},
   "source": [
    "# 1. Extract metadata"
   ]
  },
  {
   "cell_type": "code",
   "execution_count": 3,
   "metadata": {},
   "outputs": [],
   "source": [
    "default_metadata = {\n",
    "    \"languageCode\": \"eng\",\n",
    "    \"characterSetCode\": \"UTF-8\",\n",
    "    \"resourceScope\": \"dataset\",\n",
    "    \"organisationName\": \"No name\",\n",
    "    \"individualName\": \"No name\",\n",
    "    \"roleCode\": \"author\",\n",
    "    \"abstract\": \"This file was automatically generated and has no abstract.\",\n",
    "    \"keywords\": [],\n",
    "    \"progressCode\": \"\",\n",
    "    \"timePeriod\": [\"\", \"\"],\n",
    "    \"classificationCode\": \"\",\n",
    "    \"useLimitations\": \"\"\n",
    "}"
   ]
  },
  {
   "cell_type": "code",
   "execution_count": 4,
   "metadata": {},
   "outputs": [],
   "source": [
    "iso_metadata = extract_metadata(file_path, default_metadata)"
   ]
  },
  {
   "cell_type": "code",
   "execution_count": 5,
   "metadata": {},
   "outputs": [],
   "source": [
    "iso_metadata.save_to_file(\"example2_ISO_metadata.xml\")"
   ]
  },
  {
   "cell_type": "code",
   "execution_count": 6,
   "metadata": {},
   "outputs": [
    {
     "name": "stdout",
     "output_type": "stream",
     "text": [
      "The XML is well formed.\n",
      "The instance is valid aginst the ISO 19115-3 and ISO 19110 schemas.\n"
     ]
    }
   ],
   "source": [
    "# When everything is okay\n",
    "validate_xml_ISO19115_3(\"example2_ISO_metadata.xml\")"
   ]
  },
  {
   "cell_type": "markdown",
   "metadata": {},
   "source": [
    "# 2. Convert metadata"
   ]
  },
  {
   "cell_type": "markdown",
   "metadata": {},
   "source": [
    "### from ISO 19115-3/19110 to NADA geospatial metadata"
   ]
  },
  {
   "cell_type": "code",
   "execution_count": 7,
   "metadata": {},
   "outputs": [],
   "source": [
    "iso_metadata_items = read_metadata_items(\"example2_ISO_metadata.xml\")"
   ]
  },
  {
   "cell_type": "code",
   "execution_count": 8,
   "metadata": {},
   "outputs": [],
   "source": [
    "save_metadata_items(iso_metadata_items, \"example2_ISO_metadata_items.csv\")"
   ]
  },
  {
   "cell_type": "code",
   "execution_count": 9,
   "metadata": {},
   "outputs": [],
   "source": [
    "converted_metadata = convert_metadata(\"example2_ISO_metadata.xml\", \n",
    "                                      \"../../conversion_tables/from_ISO19115_3_to_NADA_geospatial_metadata.csv\", \n",
    "                                      \"../../json_schemas/NADA/NADA_geospatial_metadata_schema.json\")"
   ]
  },
  {
   "cell_type": "code",
   "execution_count": 10,
   "metadata": {},
   "outputs": [],
   "source": [
    "with open(\"example2_NADA_metadata.json\", \"w\") as outfile:\n",
    "    json.dump(converted_metadata, outfile, indent = 4)"
   ]
  },
  {
   "cell_type": "markdown",
   "metadata": {},
   "source": [
    "# 3. Validata metadata"
   ]
  },
  {
   "cell_type": "markdown",
   "metadata": {},
   "source": [
    "### ISO 19115-3/19110"
   ]
  },
  {
   "cell_type": "code",
   "execution_count": 6,
   "metadata": {},
   "outputs": [
    {
     "name": "stdout",
     "output_type": "stream",
     "text": [
      "The XML is well formed.\n",
      "Element '{http://standards.iso.org/iso/19115/-3/mrc/2.0}descriptor': This element is not expected. Expected is one of ( {http://standards.iso.org/iso/19115/-3/mrc/2.0}sequenceIdentifier, {http://standards.iso.org/iso/19115/-3/mrc/2.0}description, {http://standards.iso.org/iso/19115/-3/mrc/2.0}name, {http://standards.iso.org/iso/19115/-3/mrc/2.0}maxValue, {http://standards.iso.org/iso/19115/-3/mrc/2.0}minValue, {http://standards.iso.org/iso/19115/-3/mrc/2.0}units, {http://standards.iso.org/iso/19115/-3/mrc/2.0}scaleFactor, {http://standards.iso.org/iso/19115/-3/mrc/2.0}offset, {http://standards.iso.org/iso/19115/-3/mrc/2.0}meanValue, {http://standards.iso.org/iso/19115/-3/mrc/2.0}numberOfValues )., line 166\n"
     ]
    }
   ],
   "source": [
    "# When everything is okay\n",
    "validate_xml_ISO19115_3(\"example2_ISO_metadata.xml\")"
   ]
  },
  {
   "cell_type": "code",
   "execution_count": null,
   "metadata": {},
   "outputs": [],
   "source": [
    "# When something is wrong\n",
    "validate_xml_ISO19115_3(\"example2_ISO_metadata.xml\")"
   ]
  },
  {
   "cell_type": "markdown",
   "metadata": {},
   "source": [
    "### NADA geospatial metadata"
   ]
  },
  {
   "cell_type": "code",
   "execution_count": null,
   "metadata": {},
   "outputs": [],
   "source": [
    "# When everything is okay\n",
    "validate_json(\"example2_NADA_metadata.json\", \"../../json_schemas/NADA/NADA_geospatial_metadata_schema.json\")"
   ]
  },
  {
   "cell_type": "code",
   "execution_count": null,
   "metadata": {},
   "outputs": [],
   "source": [
    "# When something is wrong\n",
    "validate_json(\"example2_NADA_metadata.json\", \"../../json_schemas/NADA/NADA_geospatial_metadata_schema.json\")"
   ]
  }
 ],
 "metadata": {
  "kernelspec": {
   "display_name": "geodata2",
   "language": "python",
   "name": "python3"
  },
  "language_info": {
   "codemirror_mode": {
    "name": "ipython",
    "version": 3
   },
   "file_extension": ".py",
   "mimetype": "text/x-python",
   "name": "python",
   "nbconvert_exporter": "python",
   "pygments_lexer": "ipython3",
   "version": "3.9.17"
  },
  "orig_nbformat": 4
 },
 "nbformat": 4,
 "nbformat_minor": 2
}
