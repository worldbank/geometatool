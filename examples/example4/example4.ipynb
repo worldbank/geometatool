{
 "cells": [
  {
   "cell_type": "code",
   "execution_count": 1,
   "metadata": {},
   "outputs": [],
   "source": [
    "import sys\n",
    "import os\n",
    "import json\n",
    "from pathlib import Path\n",
    "sys.path[0] = str(Path(sys.path[0]).parent.parent/'geometatool')\n",
    "from extract import *\n",
    "from validate import *\n",
    "from convert import *"
   ]
  },
  {
   "cell_type": "code",
   "execution_count": 2,
   "metadata": {},
   "outputs": [],
   "source": [
    "dirName = \"data\"\n",
    "fname = \"EMAG2_V3_ISO19139_metadata.xml\"\n",
    "file_path = os.path.realpath(os.path.join(dirName, fname))"
   ]
  },
  {
   "cell_type": "markdown",
   "metadata": {},
   "source": [
    "# 1. Convert metadata"
   ]
  },
  {
   "cell_type": "markdown",
   "metadata": {},
   "source": [
    "### from ISO 19139 to ISO 19115-3"
   ]
  },
  {
   "cell_type": "code",
   "execution_count": 3,
   "metadata": {},
   "outputs": [],
   "source": [
    "from saxonpy import PySaxonProcessor"
   ]
  },
  {
   "cell_type": "code",
   "execution_count": 4,
   "metadata": {},
   "outputs": [],
   "source": [
    "xml_file = open(file_path, \"r\")"
   ]
  },
  {
   "cell_type": "code",
   "execution_count": 7,
   "metadata": {},
   "outputs": [],
   "source": [
    "xsl_file = open(\"C:/Users/wb575476/My Python Packages/geometatool/geometatool/iso_standards/19115/resources/transforms/ISO19139/fromISO19139.xsl\", \"r\")"
   ]
  },
  {
   "cell_type": "code",
   "execution_count": null,
   "metadata": {},
   "outputs": [
    {
     "ename": "",
     "evalue": "",
     "output_type": "error",
     "traceback": [
      "\u001b[1;31mCannot execute code, session has been disposed. Please try restarting the Kernel."
     ]
    },
    {
     "ename": "",
     "evalue": "",
     "output_type": "error",
     "traceback": [
      "\u001b[1;31mThe Kernel crashed while executing code in the the current cell or a previous cell. Please review the code in the cell(s) to identify a possible cause of the failure. Click <a href='https://aka.ms/vscodeJupyterKernelCrash'>here</a> for more info. View Jupyter <a href='command:jupyter.viewOutput'>log</a> for further details."
     ]
    }
   ],
   "source": [
    "with PySaxonProcessor(license=False) as  proc:\n",
    "\txsltproc = proc.new_xslt_processor()\n",
    "\n",
    "\tdocument = proc.parse_xml(xml_text=xml_file.read())\n",
    "\n",
    "\txsltproc.set_source(xdm_node=document)\n",
    "\txsltproc.compile_stylesheet(stylesheet_text=xsl_file.read())\n",
    "\n",
    "\toutput2 = xsltproc.transform_to_string()"
   ]
  },
  {
   "cell_type": "code",
   "execution_count": 3,
   "metadata": {},
   "outputs": [],
   "source": [
    "import subprocess"
   ]
  },
  {
   "cell_type": "code",
   "execution_count": 4,
   "metadata": {},
   "outputs": [],
   "source": [
    "command = [\n",
    "    \"java\",\n",
    "    \"-jar\",\n",
    "    \"saxon-he-11.6.jar\",  # Replace with the actual path to saxon9he.jar\n",
    "    \"-s:EMAG2_V3_ISO19139_metadata.xml\",     # Replace with your input XML file\n",
    "    \"-xsl:fromISO19139.xsl\",  # Replace with your XSLT 2.0 stylesheet\n",
    "    \"-o:output.xml\"          # Replace with the desired output file\n",
    "]"
   ]
  },
  {
   "cell_type": "code",
   "execution_count": 5,
   "metadata": {},
   "outputs": [
    {
     "data": {
      "text/plain": [
       "CompletedProcess(args=['java', '-jar', 'saxon-he-11.6.jar', '-s:EMAG2_V3_ISO19139_metadata.xml', '-xsl:fromISO19139.xsl', '-o:output.xml'], returncode=1)"
      ]
     },
     "execution_count": 5,
     "metadata": {},
     "output_type": "execute_result"
    }
   ],
   "source": [
    "subprocess.run(command)"
   ]
  },
  {
   "cell_type": "code",
   "execution_count": null,
   "metadata": {},
   "outputs": [],
   "source": []
  },
  {
   "cell_type": "code",
   "execution_count": null,
   "metadata": {},
   "outputs": [],
   "source": []
  },
  {
   "cell_type": "code",
   "execution_count": null,
   "metadata": {},
   "outputs": [],
   "source": []
  },
  {
   "cell_type": "code",
   "execution_count": null,
   "metadata": {},
   "outputs": [],
   "source": []
  },
  {
   "cell_type": "code",
   "execution_count": 6,
   "metadata": {},
   "outputs": [],
   "source": [
    "iso19139_metadata_items = read_metadata_items(file_path)"
   ]
  },
  {
   "cell_type": "code",
   "execution_count": 4,
   "metadata": {},
   "outputs": [],
   "source": [
    "save_metadata_items(qmd_metadata_items, \"example3_QMD_metadata_items.csv\")"
   ]
  },
  {
   "cell_type": "code",
   "execution_count": 5,
   "metadata": {},
   "outputs": [],
   "source": [
    "converted_metadata = convert_metadata(file_path, \n",
    "                                      \"../../conversion_tables/from_QMD_to_NADA_geospatial_metadata.csv\", \n",
    "                                      \"../../json_schemas/NADA/NADA_geospatial_metadata_schema.json\")"
   ]
  },
  {
   "cell_type": "code",
   "execution_count": 6,
   "metadata": {},
   "outputs": [],
   "source": [
    "with open(\"example3_NADA_metadata.json\", \"w\") as outfile:\n",
    "    json.dump(converted_metadata, outfile, indent = 4)"
   ]
  },
  {
   "cell_type": "markdown",
   "metadata": {},
   "source": [
    "# 3. Validata metadata"
   ]
  },
  {
   "cell_type": "markdown",
   "metadata": {},
   "source": [
    "### ISO 19115-3"
   ]
  },
  {
   "cell_type": "code",
   "execution_count": 7,
   "metadata": {},
   "outputs": [
    {
     "name": "stdout",
     "output_type": "stream",
     "text": [
      "'2007-12-31T23:00:00Z' is not of type 'null'\n",
      "\n",
      "Failed validating 'type' in schema['properties']['description']['properties']['identificationInfo']['items']['properties']['extent']['properties']['temporalElement']['items']['properties']['extent']:\n",
      "    {'type': 'null'}\n",
      "\n",
      "On instance['description']['identificationInfo'][0]['extent']['temporalElement'][0]['extent']:\n",
      "    '2007-12-31T23:00:00Z'\n"
     ]
    }
   ],
   "source": [
    "validate_json(\"example3_NADA_metadata.json\", \"../../json_schemas/NADA/NADA_geospatial_metadata_schema.json\")"
   ]
  }
 ],
 "metadata": {
  "kernelspec": {
   "display_name": "geodata2",
   "language": "python",
   "name": "python3"
  },
  "language_info": {
   "codemirror_mode": {
    "name": "ipython",
    "version": 3
   },
   "file_extension": ".py",
   "mimetype": "text/x-python",
   "name": "python",
   "nbconvert_exporter": "python",
   "pygments_lexer": "ipython3",
   "version": "3.9.17"
  },
  "orig_nbformat": 4
 },
 "nbformat": 4,
 "nbformat_minor": 2
}
