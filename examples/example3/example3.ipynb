{
 "cells": [
  {
   "cell_type": "code",
   "execution_count": 1,
   "metadata": {},
   "outputs": [],
   "source": [
    "import sys\n",
    "import os\n",
    "import json\n",
    "from pathlib import Path\n",
    "sys.path[0] = str(Path(sys.path[0]).parent.parent/'geometatool')\n",
    "from extract import *\n",
    "from validate import *\n",
    "from convert import *"
   ]
  },
  {
   "cell_type": "code",
   "execution_count": 2,
   "metadata": {},
   "outputs": [],
   "source": [
    "dirName = \"data\"\n",
    "fname = \"EO4Kigali.qmd\"\n",
    "file_path = os.path.realpath(os.path.join(dirName, fname))"
   ]
  },
  {
   "cell_type": "markdown",
   "metadata": {},
   "source": [
    "# 1. Convert metadata"
   ]
  },
  {
   "cell_type": "markdown",
   "metadata": {},
   "source": [
    "### from QGIS QMD to NADA geospatial metadata"
   ]
  },
  {
   "cell_type": "code",
   "execution_count": 3,
   "metadata": {},
   "outputs": [],
   "source": [
    "qmd_metadata_items = read_metadata_items(file_path)"
   ]
  },
  {
   "cell_type": "code",
   "execution_count": 4,
   "metadata": {},
   "outputs": [],
   "source": [
    "save_metadata_items(qmd_metadata_items, \"example3_QMD_metadata_items.csv\")"
   ]
  },
  {
   "cell_type": "code",
   "execution_count": 5,
   "metadata": {},
   "outputs": [],
   "source": [
    "converted_metadata = convert_metadata(file_path, \n",
    "                                      \"../../conversion_tables/from_QMD_to_NADA_geospatial_metadata.csv\", \n",
    "                                      \"../../json_schemas/NADA/NADA_geospatial_metadata_schema.json\")"
   ]
  },
  {
   "cell_type": "code",
   "execution_count": 6,
   "metadata": {},
   "outputs": [],
   "source": [
    "with open(\"example3_NADA_metadata.json\", \"w\") as outfile:\n",
    "    json.dump(converted_metadata, outfile, indent = 4)"
   ]
  },
  {
   "cell_type": "markdown",
   "metadata": {},
   "source": [
    "# 3. Validata metadata"
   ]
  },
  {
   "cell_type": "markdown",
   "metadata": {},
   "source": [
    "### NADA geospatial metadata"
   ]
  },
  {
   "cell_type": "code",
   "execution_count": 7,
   "metadata": {},
   "outputs": [
    {
     "name": "stdout",
     "output_type": "stream",
     "text": [
      "'2007-12-31T23:00:00Z' is not of type 'null'\n",
      "\n",
      "Failed validating 'type' in schema['properties']['description']['properties']['identificationInfo']['items']['properties']['extent']['properties']['temporalElement']['items']['properties']['extent']:\n",
      "    {'type': 'null'}\n",
      "\n",
      "On instance['description']['identificationInfo'][0]['extent']['temporalElement'][0]['extent']:\n",
      "    '2007-12-31T23:00:00Z'\n"
     ]
    }
   ],
   "source": [
    "validate_json(\"example3_NADA_metadata.json\", \"../../json_schemas/NADA/NADA_geospatial_metadata_schema.json\")"
   ]
  }
 ],
 "metadata": {
  "kernelspec": {
   "display_name": "geodata2",
   "language": "python",
   "name": "python3"
  },
  "language_info": {
   "codemirror_mode": {
    "name": "ipython",
    "version": 3
   },
   "file_extension": ".py",
   "mimetype": "text/x-python",
   "name": "python",
   "nbconvert_exporter": "python",
   "pygments_lexer": "ipython3",
   "version": "3.9.17"
  },
  "orig_nbformat": 4
 },
 "nbformat": 4,
 "nbformat_minor": 2
}
