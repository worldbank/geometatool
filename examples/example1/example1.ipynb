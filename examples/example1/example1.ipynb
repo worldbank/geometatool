{
 "cells": [
  {
   "cell_type": "code",
   "execution_count": 1,
   "metadata": {},
   "outputs": [],
   "source": [
    "import os\n",
    "import json\n",
    "import geometatool"
   ]
  },
  {
   "cell_type": "code",
   "execution_count": 2,
   "metadata": {},
   "outputs": [],
   "source": [
    "dirName = \"data\"\n",
    "fname = \"International Poverty Line - Subnational Poverty.shp\"\n",
    "file_path = os.path.realpath(os.path.join(dirName, fname))"
   ]
  },
  {
   "cell_type": "markdown",
   "metadata": {},
   "source": [
    "# 1. Extract metadata"
   ]
  },
  {
   "cell_type": "code",
   "execution_count": 3,
   "metadata": {},
   "outputs": [],
   "source": [
    "default_metadata = {\n",
    "    \"languageCode\": \"eng\",\n",
    "    \"characterSetCode\": \"UTF-8\",\n",
    "    \"resourceScope\": \"dataset\",\n",
    "    \"organisationName\": \"No name\",\n",
    "    \"individualName\": \"No name\",\n",
    "    \"roleCode\": \"author\",\n",
    "    \"abstract\": \"This file was automatically generated and has no abstract.\",\n",
    "    \"keywords\": [],\n",
    "    \"progressCode\": \"\",\n",
    "    \"timePeriod\": [\"\", \"\"],\n",
    "    \"classificationCode\": \"\",\n",
    "    \"useLimitations\": \"\"\n",
    "}"
   ]
  },
  {
   "cell_type": "code",
   "execution_count": 4,
   "metadata": {},
   "outputs": [],
   "source": [
    "iso_metadata = geometatool.extract_metadata(file_path, default_metadata)"
   ]
  },
  {
   "cell_type": "code",
   "execution_count": 5,
   "metadata": {},
   "outputs": [],
   "source": [
    "iso_metadata.save_to_file(\"example1_ISO_metadata.xml\")"
   ]
  },
  {
   "cell_type": "markdown",
   "metadata": {},
   "source": [
    "# 2. Convert metadata"
   ]
  },
  {
   "cell_type": "markdown",
   "metadata": {},
   "source": [
    "### from ISO 19115-3/19110 to NADA geospatial metadata"
   ]
  },
  {
   "cell_type": "code",
   "execution_count": 7,
   "metadata": {},
   "outputs": [],
   "source": [
    "iso_metadata_items = geometatool.read_metadata_items(\"example1_ISO_metadata.xml\")"
   ]
  },
  {
   "cell_type": "code",
   "execution_count": 8,
   "metadata": {},
   "outputs": [],
   "source": [
    "geometatool.save_metadata_items(iso_metadata_items, \"example1_ISO_metadata_items.csv\")"
   ]
  },
  {
   "cell_type": "code",
   "execution_count": 9,
   "metadata": {},
   "outputs": [],
   "source": [
    "converted_metadata = geometatool.convert_metadata(\"example1_ISO_metadata.xml\", \n",
    "                                                    \"../../conversion_tables/from_ISO19115_3_to_NADA_geospatial_metadata.csv\", \n",
    "                                                    \"../../json_schemas/NADA/NADA_geospatial_metadata_schema.json\")"
   ]
  },
  {
   "cell_type": "code",
   "execution_count": 10,
   "metadata": {},
   "outputs": [],
   "source": [
    "with open(\"example1_NADA_metadata.json\", \"w\") as outfile:\n",
    "    json.dump(converted_metadata, outfile, indent = 4)"
   ]
  },
  {
   "cell_type": "markdown",
   "metadata": {},
   "source": [
    "# 3. Validata metadata"
   ]
  },
  {
   "cell_type": "markdown",
   "metadata": {},
   "source": [
    "### ISO 19115-3/19110"
   ]
  },
  {
   "cell_type": "code",
   "execution_count": 11,
   "metadata": {},
   "outputs": [
    {
     "name": "stdout",
     "output_type": "stream",
     "text": [
      "The XML is well formed.\n",
      "The instance is valid aginst the ISO 19115-3 schemas.\n"
     ]
    }
   ],
   "source": [
    "# When everything is okay\n",
    "geometatool.validate_xml_ISO19115_3(\"example1_ISO_metadata.xml\")"
   ]
  },
  {
   "cell_type": "code",
   "execution_count": 13,
   "metadata": {},
   "outputs": [
    {
     "name": "stdout",
     "output_type": "stream",
     "text": [
      "The XML is well formed.\n",
      "Element '{http://standards.iso.org/iso/19110/gfc/1.1}wrong_FeatureType': This element is not expected. Expected is one of ( {http://standards.iso.org/iso/19110/gfc/1.1}FC_FeatureType, {http://standards.iso.org/iso/19110/gfc/1.1}FC_FeatureAssociation )., line 211\n"
     ]
    }
   ],
   "source": [
    "# When something is wrong\n",
    "geometatool.validate_xml_ISO19115_3(\"example1_ISO_metadata.xml\")"
   ]
  },
  {
   "cell_type": "markdown",
   "metadata": {},
   "source": [
    "### NADA geospatial metadata"
   ]
  },
  {
   "cell_type": "code",
   "execution_count": 14,
   "metadata": {},
   "outputs": [
    {
     "name": "stdout",
     "output_type": "stream",
     "text": [
      "The instance is valid aginst the provided schema.\n"
     ]
    }
   ],
   "source": [
    "# When everything is okay\n",
    "geometatool.validate_json(\"example1_NADA_metadata.json\", \"../../json_schemas/NADA/NADA_geospatial_metadata_schema.json\")"
   ]
  },
  {
   "cell_type": "code",
   "execution_count": 15,
   "metadata": {},
   "outputs": [
    {
     "name": "stdout",
     "output_type": "stream",
     "text": [
      "True is not of type 'string'\n",
      "\n",
      "Failed validating 'type' in schema['properties']['description']['properties']['contact']['items']['properties']['role']:\n",
      "    {'type': 'string'}\n",
      "\n",
      "On instance['description']['contact'][0]['role']:\n",
      "    True\n"
     ]
    }
   ],
   "source": [
    "# When something is wrong\n",
    "geometatool.validate_json(\"example1_NADA_metadata.json\", \"../../json_schemas/NADA/NADA_geospatial_metadata_schema.json\")"
   ]
  }
 ],
 "metadata": {
  "kernelspec": {
   "display_name": "geodata2",
   "language": "python",
   "name": "python3"
  },
  "language_info": {
   "codemirror_mode": {
    "name": "ipython",
    "version": 3
   },
   "file_extension": ".py",
   "mimetype": "text/x-python",
   "name": "python",
   "nbconvert_exporter": "python",
   "pygments_lexer": "ipython3",
   "version": "3.9.18"
  },
  "orig_nbformat": 4
 },
 "nbformat": 4,
 "nbformat_minor": 2
}
