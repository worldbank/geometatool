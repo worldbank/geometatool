{
 "cells": [
  {
   "cell_type": "code",
   "execution_count": 1,
   "metadata": {},
   "outputs": [],
   "source": [
    "import sys\n",
    "import os\n",
    "from pathlib import Path\n",
    "sys.path[0] = str(Path(sys.path[0]).parent.parent/'geometatool')\n",
    "from extract import *\n",
    "from validate import *\n",
    "from convert import *"
   ]
  },
  {
   "cell_type": "code",
   "execution_count": 2,
   "metadata": {},
   "outputs": [],
   "source": [
    "dirName = \"data\"\n",
    "fname = \"International Poverty Line - Subnational Poverty.shp\"\n",
    "file_path = os.path.realpath(os.path.join(dirName, fname))"
   ]
  },
  {
   "cell_type": "markdown",
   "metadata": {},
   "source": [
    "# 1. Extract metadata"
   ]
  },
  {
   "cell_type": "code",
   "execution_count": 3,
   "metadata": {},
   "outputs": [],
   "source": [
    "default_metadata = {\n",
    "    \"LanguageCode\": \"eng\",\n",
    "    \"CharacterSetCode\": \"UTF-8\",\n",
    "    \"ResourceScope\": \"dataset\",\n",
    "    \"OrganisationName\": \"No name\",\n",
    "    \"IndividualName\": \"No name\",\n",
    "    \"RoleCode\": \"author\",\n",
    "    \"Abstract\": \"This file was automatically generated and has no abstract.\",\n",
    "    \"Keywords\": [],\n",
    "    \"ProgressCode\": \"\",\n",
    "    \"TimePeriod\": [\"\", \"\"],\n",
    "    \"ClassificationCode\": \"\",\n",
    "    \"UseLimitations\": \"\"\n",
    "}"
   ]
  },
  {
   "cell_type": "code",
   "execution_count": 4,
   "metadata": {},
   "outputs": [],
   "source": [
    "iso_metadata = extract_metadata(file_path, default_metadata)"
   ]
  },
  {
   "cell_type": "code",
   "execution_count": 5,
   "metadata": {},
   "outputs": [],
   "source": [
    "iso_metadata.save_to_file(\"example1_ISO_metadata.xml\")"
   ]
  },
  {
   "cell_type": "markdown",
   "metadata": {},
   "source": [
    "# 2. Convert metadata"
   ]
  },
  {
   "cell_type": "markdown",
   "metadata": {},
   "source": [
    "### from ISO 19115-3/19110 to NADA geospatial metadata"
   ]
  },
  {
   "cell_type": "code",
   "execution_count": 6,
   "metadata": {},
   "outputs": [],
   "source": [
    "iso_metadata_items = read_metadata_items(\"example1_ISO_metadata.xml\", \"example1_ISO_metadata_items.csv\")"
   ]
  },
  {
   "cell_type": "code",
   "execution_count": 7,
   "metadata": {},
   "outputs": [],
   "source": [
    "converted_metadata = convert_metadata(\"example1_ISO_metadata.xml\", \n",
    "                                      \"../../conversion_tables/ISO19115_19110 - NADA geospatial metadata.csv\", \n",
    "                                      \"../../json_schemas/NADA/NADA_geospatial_metadata_schema.json\")"
   ]
  },
  {
   "cell_type": "code",
   "execution_count": 8,
   "metadata": {},
   "outputs": [],
   "source": [
    "with open(\"example1_NADA_metadata.json\", \"w\") as outfile:\n",
    "    json.dump(converted_metadata, outfile, indent = 4)"
   ]
  },
  {
   "cell_type": "markdown",
   "metadata": {},
   "source": [
    "# 3. Validata metadata"
   ]
  },
  {
   "cell_type": "markdown",
   "metadata": {},
   "source": [
    "### ISO 19115-3/19110"
   ]
  },
  {
   "cell_type": "code",
   "execution_count": 2,
   "metadata": {},
   "outputs": [
    {
     "name": "stdout",
     "output_type": "stream",
     "text": [
      "The XML is well formed.\n",
      "The instance is valid aginst the ISO 19115-3 and ISO 19110 schemas.\n"
     ]
    }
   ],
   "source": [
    "# When everything is okay\n",
    "validate_xml_ISO19115_3(\"example1_ISO_metadata.xml\")"
   ]
  },
  {
   "cell_type": "code",
   "execution_count": 3,
   "metadata": {},
   "outputs": [
    {
     "name": "stdout",
     "output_type": "stream",
     "text": [
      "The XML is well formed.\n",
      "Element '{http://standards.iso.org/iso/19110/gfc/1.1}wrong_featureType': This element is not expected. Expected is one of ( {http://standards.iso.org/iso/19110/gfc/1.1}functionalLanguage, {http://standards.iso.org/iso/19110/gfc/1.1}identifier, {http://standards.iso.org/iso/19110/gfc/1.1}featureType, {http://standards.iso.org/iso/19110/gfc/1.1}inheritanceRelation, {http://standards.iso.org/iso/19110/gfc/1.1}globalProperty, {http://standards.iso.org/iso/19110/gfc/1.1}definitionSource )., line 210\n"
     ]
    }
   ],
   "source": [
    "# When something is wrong\n",
    "validate_xml_ISO19115_3(\"example1_ISO_metadata.xml\")"
   ]
  },
  {
   "cell_type": "markdown",
   "metadata": {},
   "source": [
    "### NADA geospatial metadata"
   ]
  },
  {
   "cell_type": "code",
   "execution_count": 4,
   "metadata": {},
   "outputs": [
    {
     "name": "stdout",
     "output_type": "stream",
     "text": [
      "The instance is valid aginst the provided schema.\n"
     ]
    }
   ],
   "source": [
    "# When everything is okay\n",
    "validate_json(\"example1_NADA_metadata.json\", \"../../json_schemas/NADA/NADA_geospatial_metadata_schema.json\")"
   ]
  },
  {
   "cell_type": "code",
   "execution_count": 7,
   "metadata": {},
   "outputs": [
    {
     "name": "stdout",
     "output_type": "stream",
     "text": [
      "False is not of type 'string'\n",
      "\n",
      "Failed validating 'type' in schema['properties']['description']['properties']['contact']['items']['properties']['role']:\n",
      "    {'type': 'string'}\n",
      "\n",
      "On instance['description']['contact'][0]['role']:\n",
      "    False\n"
     ]
    }
   ],
   "source": [
    "# When something is wrong\n",
    "validate_json(\"example1_NADA_metadata.json\", \"../../json_schemas/NADA/NADA_geospatial_metadata_schema.json\")"
   ]
  }
 ],
 "metadata": {
  "kernelspec": {
   "display_name": "geodata2",
   "language": "python",
   "name": "python3"
  },
  "language_info": {
   "codemirror_mode": {
    "name": "ipython",
    "version": 3
   },
   "file_extension": ".py",
   "mimetype": "text/x-python",
   "name": "python",
   "nbconvert_exporter": "python",
   "pygments_lexer": "ipython3",
   "version": "3.9.17"
  },
  "orig_nbformat": 4
 },
 "nbformat": 4,
 "nbformat_minor": 2
}
