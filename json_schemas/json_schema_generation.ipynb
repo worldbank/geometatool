{
 "cells": [
  {
   "cell_type": "code",
   "execution_count": 2,
   "metadata": {},
   "outputs": [],
   "source": [
    "import json\n",
    "from json_schema_generator import *"
   ]
  },
  {
   "cell_type": "markdown",
   "metadata": {},
   "source": [
    "## NADA geospatial metadata schema"
   ]
  },
  {
   "cell_type": "code",
   "execution_count": 2,
   "metadata": {},
   "outputs": [],
   "source": [
    "metadata_json =  open(\"NADA/NADA_geospatial_metadata_example.json\")\n",
    "metadata = json.load(metadata_json)\n",
    "schema = guess_schema(metadata)\n",
    "with open(\"NADA/NADA_geospatial_metadata schema.json\", \"w\") as f:\n",
    "    json.dump(schema, f)"
   ]
  },
  {
   "cell_type": "markdown",
   "metadata": {},
   "source": [
    "## DDH metadata schema"
   ]
  },
  {
   "cell_type": "code",
   "execution_count": 3,
   "metadata": {},
   "outputs": [],
   "source": [
    "metadata_json =  open(\"DDH/DDH_dataset_metadata_example.json\")\n",
    "metadata = json.load(metadata_json)\n",
    "schema = guess_schema(metadata)\n",
    "with open(\"DDH/DDH_dataset_metadata schema.json\", \"w\") as f:\n",
    "    json.dump(schema, f)"
   ]
  },
  {
   "cell_type": "code",
   "execution_count": 5,
   "metadata": {},
   "outputs": [],
   "source": [
    "metadata_json =  open(\"DDH/DDH_citation_metadata_example.json\")\n",
    "metadata = json.load(metadata_json)\n",
    "schema = guess_schema(metadata)\n",
    "with open(\"DDH/DDH_citation_metadata schema.json\", \"w\") as f:\n",
    "    json.dump(schema, f)"
   ]
  },
  {
   "cell_type": "code",
   "execution_count": 6,
   "metadata": {},
   "outputs": [],
   "source": [
    "metadata_json =  open(\"DDH/DDH_collection_metadata_example.json\")\n",
    "metadata = json.load(metadata_json)\n",
    "schema = guess_schema(metadata)\n",
    "with open(\"DDH/DDH_collection_metadata schema.json\", \"w\") as f:\n",
    "    json.dump(schema, f)"
   ]
  },
  {
   "cell_type": "code",
   "execution_count": 7,
   "metadata": {},
   "outputs": [],
   "source": [
    "metadata_json =  open(\"DDH/DDH_indicator_metadata_example.json\")\n",
    "metadata = json.load(metadata_json)\n",
    "schema = guess_schema(metadata)\n",
    "with open(\"DDH/DDH_indicator_metadata schema.json\", \"w\") as f:\n",
    "    json.dump(schema, f)"
   ]
  },
  {
   "cell_type": "code",
   "execution_count": 8,
   "metadata": {},
   "outputs": [],
   "source": [
    "metadata_json =  open(\"DDH/DDH_resource_metadata_example.json\")\n",
    "metadata = json.load(metadata_json)\n",
    "schema = guess_schema(metadata)\n",
    "with open(\"DDH/DDH_resource_metadata schema.json\", \"w\") as f:\n",
    "    json.dump(schema, f)"
   ]
  },
  {
   "cell_type": "code",
   "execution_count": null,
   "metadata": {},
   "outputs": [],
   "source": []
  }
 ],
 "metadata": {
  "kernelspec": {
   "display_name": "geodata2",
   "language": "python",
   "name": "python3"
  },
  "language_info": {
   "codemirror_mode": {
    "name": "ipython",
    "version": 3
   },
   "file_extension": ".py",
   "mimetype": "text/x-python",
   "name": "python",
   "nbconvert_exporter": "python",
   "pygments_lexer": "ipython3",
   "version": "3.9.17"
  },
  "orig_nbformat": 4
 },
 "nbformat": 4,
 "nbformat_minor": 2
}
